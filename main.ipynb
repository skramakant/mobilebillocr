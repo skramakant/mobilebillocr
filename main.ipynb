{
 "cells": [
  {
   "cell_type": "code",
   "execution_count": 1,
   "metadata": {},
   "outputs": [],
   "source": [
    "import numpy\n",
    "import cv2\n",
    "import matplotlib "
   ]
  },
  {
   "cell_type": "code",
   "execution_count": 16,
   "metadata": {},
   "outputs": [
    {
     "ename": "TabError",
     "evalue": "inconsistent use of tabs and spaces in indentation (<ipython-input-16-13faca6aaf68>, line 18)",
     "output_type": "error",
     "traceback": [
      "\u001b[1;36m  File \u001b[1;32m\"<ipython-input-16-13faca6aaf68>\"\u001b[1;36m, line \u001b[1;32m18\u001b[0m\n\u001b[1;33m    if event == cv2.EVENT_LBUTTONDOWN and cropping == False:\u001b[0m\n\u001b[1;37m                                                            ^\u001b[0m\n\u001b[1;31mTabError\u001b[0m\u001b[1;31m:\u001b[0m inconsistent use of tabs and spaces in indentation\n"
     ]
    }
   ],
   "source": [
    "image = cv2.imread(\"testocr.png\")\n",
    "clone = image.copy()\n",
    "cv2.namedWindow(\"image\")\n",
    "\n",
    "# initialize the list of reference points and boolean indicating\n",
    "# whether cropping is being performed or not\n",
    "refPt = []\n",
    "point = []\n",
    "cropping = False\n",
    " \n",
    "def click_and_crop(event, x, y, flags, param):\n",
    "    # grab references to the global variables\n",
    "    global refPt, cropping, point\n",
    " \n",
    "\t# if the left mouse button was clicked, record the starting\n",
    "\t# (x, y) coordinates and indicate that cropping is being\n",
    "\t# performed\n",
    "\tif event == cv2.EVENT_LBUTTONDOWN and cropping == False:\n",
    "        refPt = [(x, y)]\n",
    "        cropping = True\n",
    " \n",
    "\t# check to see if the left mouse button was released\n",
    "\telif event == cv2.EVENT_LBUTTONUP and cropping == True:\n",
    "        # record the ending (x, y) coordinates and indicate that\n",
    "\t\t# the cropping operation is finished\n",
    "\t\trefPt.append((x, y))\n",
    "\t\tcropping = False\n",
    " \n",
    "\t\t# draw a rectangle around the region of interest\n",
    "\t\tcv2.rectangle(image, refPt[0], refPt[1], (0, 255, 0), 2)\n",
    "\t\tcv2.imshow(\"image\", image) \n",
    "        \n",
    "    elif event == cv2.EVENT_LBUTTONUP:\n",
    "        cropping = False\n",
    "        \n",
    "    elif event == cv2.EVENT_MOUSEMOVE and cropping == True:\n",
    "        cv.rectangle(image,refPt[0],(x,y),(255,0,0),2)\n",
    "        cv2.imshow(\"image\",image)\n",
    "        \n",
    "        \n",
    "        \n",
    "\n",
    "cv2.setMouseCallback(\"image\", click_and_crop)\n",
    "# cv2.imshow(\"image\",clone)\n",
    "\n",
    "# keep looping until the 'q' key is pressed\n",
    "while True:\n",
    "\t# display the image and wait for a keypress\n",
    "\tcv2.imshow(\"image\", image)\n",
    "\tkey = cv2.waitKey(1) & 0xFF\n",
    " \n",
    "\t# if the 'r' key is pressed, reset the cropping region\n",
    "\tif key == ord(\"r\"):\n",
    "\t\timage = clone.copy()\n",
    " \n",
    "\t# if the 'c' key is pressed, break from the loop\n",
    "\telif key == ord(\"c\"):\n",
    "\t\tbreak\n",
    " \n",
    "# if there are two reference points, then crop the region of interest\n",
    "# from the image and display it\n",
    "if len(refPt) == 2:\n",
    "\troi = clone[refPt[0][1]:refPt[1][1], refPt[0][0]:refPt[1][0]]\n",
    "\tcv2.imshow(\"ROI\", roi)\n",
    "\tcv2.waitKey(0)\n",
    "\n",
    "        \n",
    "# cv2.waitKey(0)\n",
    "cv2.destroyAllWindows()\n",
    "# cv2.setMouseCallback(\"image\", click_and_crop)"
   ]
  },
  {
   "cell_type": "code",
   "execution_count": null,
   "metadata": {},
   "outputs": [],
   "source": []
  },
  {
   "cell_type": "code",
   "execution_count": null,
   "metadata": {},
   "outputs": [],
   "source": []
  }
 ],
 "metadata": {
  "kernelspec": {
   "display_name": "Python 3",
   "language": "python",
   "name": "python3"
  },
  "language_info": {
   "codemirror_mode": {
    "name": "ipython",
    "version": 3
   },
   "file_extension": ".py",
   "mimetype": "text/x-python",
   "name": "python",
   "nbconvert_exporter": "python",
   "pygments_lexer": "ipython3",
   "version": "3.6.3"
  }
 },
 "nbformat": 4,
 "nbformat_minor": 2
}
